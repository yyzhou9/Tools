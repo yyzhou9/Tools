{
 "cells": [
  {
   "cell_type": "markdown",
   "metadata": {},
   "source": [
    "# Import packages"
   ]
  },
  {
   "cell_type": "code",
   "execution_count": 6,
   "metadata": {},
   "outputs": [],
   "source": [
    "from pdf2image import convert_from_path\n",
    "import pytesseract\n",
    "from docx import Document\n",
    "import os"
   ]
  },
  {
   "cell_type": "markdown",
   "metadata": {},
   "source": [
    "# Define the function"
   ]
  },
  {
   "cell_type": "code",
   "execution_count": 8,
   "metadata": {},
   "outputs": [],
   "source": [
    "# Define a function to convert a PDF file to text using OCR\n",
    "def ocr_pdf_to_text(pdf_path):\n",
    "    \"\"\"\n",
    "    Convert a PDF into text by converting each page to an image and then applying OCR.\n",
    "    \n",
    "    Parameters:\n",
    "    - pdf_path: str, the path to the PDF file to be converted.\n",
    "    - output_txt_path: str, the path where the output text file should be saved.\n",
    "    \"\"\"\n",
    "    # Convert PDF pages to images\n",
    "    images = convert_from_path(pdf_path)\n",
    "    \n",
    "    # Initialize an empty string to store the full text\n",
    "    full_text = \"\"\n",
    "    \n",
    "    # Iterate over each image and apply OCR to extract text\n",
    "    count = 0\n",
    "    for image in images:\n",
    "        page_text = pytesseract.image_to_string(image)\n",
    "        full_text += page_text + \"\\n\"  # Add a new line after each page's text\n",
    "        # full_text += page_text + \"****************Here is the break****************\" # For eyeballing test to figure out where is the break.\n",
    "        count += 1\n",
    "        print(f\"image #{count} successful\")\n",
    "\n",
    "    # Process the text to remove unwanted newlines within paragraphs\n",
    "    full_text = full_text.replace('\\n\\n', '<<paragraph>>')  # Preserve paragraph breaks\n",
    "    full_text = full_text.replace('\\n', ' ')  # Correct sentences within paragraphs\n",
    "    full_text = full_text.replace('<<paragraph>>', '\\n\\n')  # Restore paragraph breaks\n",
    "\n",
    "    return full_text\n",
    "    # # Write the full text to a .txt file\n",
    "    # with open(output_txt_path, 'w', encoding='utf-8') as output_file:\n",
    "    #     output_file.write(full_text)\n",
    "    \n",
    "    # print(f'Text extracted and saved to {output_txt_path}')\n",
    "\n",
    "def save_text_to_file(text, output_path, output_format):\n",
    "    \"\"\"\n",
    "    Save the given text to a file, choosing between .txt and .docx formats.\n",
    "    \n",
    "    Parameters:\n",
    "    - text: str, the text to be saved.\n",
    "    - output_path: str, the path where the output file should be saved.\n",
    "    - format: str, the format of the output file ('txt' or 'docx').\n",
    "    \"\"\"\n",
    "    if output_format == 'txt':\n",
    "        with open(output_path, 'w', encoding='utf-8') as output_file:\n",
    "            output_file.write(text)\n",
    "    elif output_format == 'docx':\n",
    "        doc = Document()\n",
    "        doc.add_paragraph(text)\n",
    "        doc.save(output_path)\n",
    "    else:\n",
    "        raise ValueError(\"Unsupported format. Please choose 'txt' or 'docx'.\")\n",
    "    \n",
    "    print(f'Text extracted and saved to {output_path}')"
   ]
  },
  {
   "cell_type": "markdown",
   "metadata": {},
   "source": [
    "# Call the funtion & Output txt"
   ]
  },
  {
   "cell_type": "code",
   "execution_count": 9,
   "metadata": {},
   "outputs": [],
   "source": [
    "# Specify the path to your PDF and the output text file\n",
    "pdf_path = '/Users/zhouyeyang/Library/Mobile Documents/com~apple~CloudDocs/U of Arizona/Y1S2/ACCT 682 Seminar/reading materials/6 regulations/STIGLER 1971_background.PDF'\n",
    "output_path = '/Users/zhouyeyang/Library/Mobile Documents/com~apple~CloudDocs/U of Arizona/Y1S2/ACCT 682 Seminar/reading materials/6 regulations/STIGLER 1971_background'\n",
    "output_format = 'docx' #choose from txt and docx\n",
    "\n",
    "extracted_text = ocr_pdf_to_text(pdf_path)\n",
    "save_text_to_file(extracted_text, f\"{output_path}.{output_format}\", output_format)\n",
    "\n"
   ]
  },
  {
   "cell_type": "markdown",
   "metadata": {},
   "source": [
    "# 问题记录\n",
    "每段的句子break unnatrually（每一行最后都换行），而段之间是有两个换行。"
   ]
  }
 ],
 "metadata": {
  "kernelspec": {
   "display_name": "base",
   "language": "python",
   "name": "python3"
  },
  "language_info": {
   "codemirror_mode": {
    "name": "ipython",
    "version": 3
   },
   "file_extension": ".py",
   "mimetype": "text/x-python",
   "name": "python",
   "nbconvert_exporter": "python",
   "pygments_lexer": "ipython3",
   "version": "3.8.8"
  }
 },
 "nbformat": 4,
 "nbformat_minor": 2
}
